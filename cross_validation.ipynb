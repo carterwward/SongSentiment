{
 "cells": [
  {
   "cell_type": "code",
   "execution_count": 1,
   "metadata": {},
   "outputs": [
    {
     "name": "stderr",
     "output_type": "stream",
     "text": [
      "/opt/anaconda3/lib/python3.7/site-packages/sklearn/base.py:318: UserWarning: Trying to unpickle estimator LogisticRegression from version 0.23.2 when using version 0.22.1. This might lead to breaking code or invalid results. Use at your own risk.\n",
      "  UserWarning)\n",
      "/opt/anaconda3/lib/python3.7/site-packages/sklearn/base.py:318: UserWarning: Trying to unpickle estimator TfidfTransformer from version 0.23.2 when using version 0.22.1. This might lead to breaking code or invalid results. Use at your own risk.\n",
      "  UserWarning)\n",
      "/opt/anaconda3/lib/python3.7/site-packages/sklearn/base.py:318: UserWarning: Trying to unpickle estimator TfidfVectorizer from version 0.23.2 when using version 0.22.1. This might lead to breaking code or invalid results. Use at your own risk.\n",
      "  UserWarning)\n",
      "/opt/anaconda3/lib/python3.7/site-packages/sklearn/base.py:318: UserWarning: Trying to unpickle estimator LogisticRegression from version 0.23.2 when using version 0.22.1. This might lead to breaking code or invalid results. Use at your own risk.\n",
      "  UserWarning)\n",
      "/opt/anaconda3/lib/python3.7/site-packages/sklearn/base.py:318: UserWarning: Trying to unpickle estimator TfidfTransformer from version 0.23.2 when using version 0.22.1. This might lead to breaking code or invalid results. Use at your own risk.\n",
      "  UserWarning)\n",
      "/opt/anaconda3/lib/python3.7/site-packages/sklearn/base.py:318: UserWarning: Trying to unpickle estimator TfidfVectorizer from version 0.23.2 when using version 0.22.1. This might lead to breaking code or invalid results. Use at your own risk.\n",
      "  UserWarning)\n"
     ]
    },
    {
     "name": "stdout",
     "output_type": "stream",
     "text": [
      "0.5682758620689655\n",
      "{'Cs': 10, 'class_weight': None, 'cv': None, 'dual': False, 'fit_intercept': True, 'intercept_scaling': 1.0, 'l1_ratios': None, 'max_iter': 10000, 'multi_class': 'auto', 'n_jobs': None, 'penalty': 'l1', 'random_state': None, 'refit': True, 'scoring': None, 'solver': 'liblinear', 'tol': 0.0001, 'verbose': 0}\n"
     ]
    }
   ],
   "source": [
    "# from firebase import read_song_dict, read_artist_dict, read_all_discogs\n",
    "# from calc_tf_idf import get_song_tf_idf\n",
    "# from process import lyric_tokenizer\n",
    "# from model import predict, tokenize_lyrics\n",
    "from sklearn.feature_extraction.text import TfidfVectorizer\n",
    "# from sklearn.model_selection import train_test_split, cross_val_score\n",
    "from sklearn.linear_model import LogisticRegression\n",
    "from sklearn.linear_model import LogisticRegressionCV\n",
    "from sklearn.metrics import accuracy_score\n",
    "import numpy as np\n",
    "import pandas as pd\n",
    "import pickle\n",
    "import matplotlib.pyplot as plt\n",
    "import seaborn as sns\n",
    "from sklearn.metrics import plot_confusion_matrix\n",
    "from sklearn import metrics\n",
    "import re\n",
    "\n",
    "def read_test_data():\n",
    "    test = pd.read_csv(\"tokenized_test_data.csv\").dropna()\n",
    "    model = pickle.load(open('more_feature_model.sav', 'rb'))\n",
    "    vectorizer = pickle.load(open('larger_vectorizer.pk', 'rb')) \n",
    "    vocab = vectorizer.get_feature_names()\n",
    "    lyrics_list = test[\"tokenized_lyrics\"].values\n",
    "    predict_vectorizer = TfidfVectorizer(analyzer='word', lowercase=True, vocabulary= vocab)\n",
    "    X_vals = predict_vectorizer.fit_transform(lyrics_list).toarray()\n",
    "    Y_vals = test[\"lr_valence\"]\n",
    "    return model, vocab, X_vals, Y_vals\n",
    "\n",
    "def read_train_data():\n",
    "    train = pd.read_csv(\"tokenized_train_data.csv\").dropna()\n",
    "    model = pickle.load(open('more_feature_model.sav', 'rb'))\n",
    "    vectorizer = pickle.load(open('larger_vectorizer.pk', 'rb')) \n",
    "    vocab = vectorizer.get_feature_names()\n",
    "    lyrics_list = train[\"tokenized_lyrics\"].values\n",
    "    predict_vectorizer = TfidfVectorizer(analyzer='word', lowercase=True, vocabulary= vocab)\n",
    "    X_train = predict_vectorizer.fit_transform(lyrics_list).toarray()\n",
    "    Y_train = train[\"lr_valence\"]\n",
    "    return model, X_train, Y_train\n",
    "\n",
    "\n",
    "#all_features l1 accuracy = 0.5682758620689655\n",
    "#all_features l2 accuracy = 0.5613793103448276\n",
    "def cross_validation(penalty):\n",
    "    #read in train and test data\n",
    "    model, X, y = read_train_data()\n",
    "    model, vocab, X_vals, Y_vals = read_test_data()\n",
    "    #train model with penalty\n",
    "    clf = LogisticRegressionCV(penalty=penalty, solver='liblinear', max_iter = 10000).fit(X, y)\n",
    "    #print model accuracy\n",
    "    print(clf.score(X_vals,Y_vals))\n",
    "    #get model parameters\n",
    "    print(clf.get_params())\n",
    "\n",
    "\n"
   ]
  },
  {
   "cell_type": "code",
   "execution_count": null,
   "metadata": {},
   "outputs": [
    {
     "name": "stderr",
     "output_type": "stream",
     "text": [
      "/opt/anaconda3/lib/python3.7/site-packages/sklearn/base.py:318: UserWarning: Trying to unpickle estimator LogisticRegression from version 0.23.2 when using version 0.22.1. This might lead to breaking code or invalid results. Use at your own risk.\n",
      "  UserWarning)\n",
      "/opt/anaconda3/lib/python3.7/site-packages/sklearn/base.py:318: UserWarning: Trying to unpickle estimator TfidfTransformer from version 0.23.2 when using version 0.22.1. This might lead to breaking code or invalid results. Use at your own risk.\n",
      "  UserWarning)\n",
      "/opt/anaconda3/lib/python3.7/site-packages/sklearn/base.py:318: UserWarning: Trying to unpickle estimator TfidfVectorizer from version 0.23.2 when using version 0.22.1. This might lead to breaking code or invalid results. Use at your own risk.\n",
      "  UserWarning)\n"
     ]
    }
   ],
   "source": [
    "#elasticnet accuracy = \n",
    "ratios = (0,.2,.4,.6,.8,1)\n",
    "model, X, y = read_train_data()\n",
    "clf_elastic = LogisticRegressionCV(penalty='elasticnet', solver='saga', l1_ratios = ratios, max_iter = 10000).fit(X, y)"
   ]
  },
  {
   "cell_type": "code",
   "execution_count": null,
   "metadata": {},
   "outputs": [],
   "source": []
  }
 ],
 "metadata": {
  "kernelspec": {
   "display_name": "Python 3",
   "language": "python",
   "name": "python3"
  },
  "language_info": {
   "codemirror_mode": {
    "name": "ipython",
    "version": 3
   },
   "file_extension": ".py",
   "mimetype": "text/x-python",
   "name": "python",
   "nbconvert_exporter": "python",
   "pygments_lexer": "ipython3",
   "version": "3.7.6"
  }
 },
 "nbformat": 4,
 "nbformat_minor": 4
}
