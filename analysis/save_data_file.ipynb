{
 "metadata": {
  "language_info": {
   "codemirror_mode": {
    "name": "ipython",
    "version": 3
   },
   "file_extension": ".py",
   "mimetype": "text/x-python",
   "name": "python",
   "nbconvert_exporter": "python",
   "pygments_lexer": "ipython3",
   "version": "3.8.3-final"
  },
  "orig_nbformat": 2,
  "kernelspec": {
   "name": "python3",
   "display_name": "Python 3",
   "language": "python"
  }
 },
 "nbformat": 4,
 "nbformat_minor": 2,
 "cells": [
  {
   "cell_type": "code",
   "execution_count": 32,
   "metadata": {},
   "outputs": [],
   "source": [
    "import pandas as pd\n",
    "from twitter_bot_functions.firebase_functions import read_all_discogs\n",
    "from twitter_bot_functions.process import lyric_tokenizer"
   ]
  },
  {
   "cell_type": "code",
   "execution_count": 30,
   "metadata": {},
   "outputs": [
    {
     "output_type": "execute_result",
     "data": {
      "text/plain": [
       "'/Users/carterward/Documents/GitHub/SongSentiment'"
      ]
     },
     "metadata": {},
     "execution_count": 30
    }
   ],
   "source": [
    "os.getcwd()"
   ]
  },
  {
   "cell_type": "code",
   "execution_count": 11,
   "metadata": {},
   "outputs": [],
   "source": [
    "all_discogs = read_all_discogs()"
   ]
  },
  {
   "cell_type": "code",
   "execution_count": 33,
   "metadata": {},
   "outputs": [],
   "source": [
    "artist_names = [key.split('_')[0] for key in all_discogs.keys()]\n",
    "song_names = [key.split('_')[1] for key in all_discogs.keys()]\n",
    "lyrics = [dict['lyrics'] for dict in all_discogs.values()]\n",
    "valence = [dict['valence'] for dict in all_discogs.values()]\n",
    "albums = [dict['album'] for dict in all_discogs.values()]\n",
    "year = [dict['year'] for dict in all_discogs.values()]\n",
    "features = [dict['features'] for dict in all_discogs.values()]\n",
    "tokenized_lyrics = [lyric_tokenizer(words) for words in lyrics]"
   ]
  },
  {
   "cell_type": "code",
   "execution_count": 34,
   "metadata": {},
   "outputs": [
    {
     "output_type": "execute_result",
     "data": {
      "text/plain": [
       "            artist                song  \\\n",
       "0     99 neighbors                  19   \n",
       "1     99 neighbors           bangarang   \n",
       "2     99 neighbors            basement   \n",
       "3     99 neighbors            champion   \n",
       "4     99 neighbors    champion reprise   \n",
       "...            ...                 ...   \n",
       "2950        wavves         untitled ii   \n",
       "2951        wavves                wait   \n",
       "2952        wavves        way too much   \n",
       "2953        wavves          weed demon   \n",
       "2954        wavves  when will you come   \n",
       "\n",
       "                                                 lyrics  \\\n",
       "0     I feel\\nStuck in a box\\nI saw Jesus walk, aye\\...   \n",
       "1     Bounce around and shit\\nBangarang your chick (...   \n",
       "2     I said I took that motherfucker for a ride fro...   \n",
       "3     Look me in my eye\\nTell me what you see\\nLook ...   \n",
       "4     Baby\\nFor all the nights you couldn't sleep\\nA...   \n",
       "...                                                 ...   \n",
       "2950                                                      \n",
       "2951  I wanna leave this sinking ship\\nI've tried my...   \n",
       "2952  Sorry, if I woke you up this morning\\nIt was e...   \n",
       "2953  Dark cave\\nDirt paved\\nCrawling\\nI love crawli...   \n",
       "2954  Sun, when will you come?\\nWhen will you come?\\...   \n",
       "\n",
       "                                       tokenized_lyrics  valence  \\\n",
       "0     [feel, stuck, box, jesus, walk, aye, got, tap,...    0.279   \n",
       "1     [bounce, shit, bangarang, chick, yay, half, th...    0.556   \n",
       "2     [motherfucker, ride, basement, motherfucker, r...    0.646   \n",
       "3     [look, eye, tell, look, eye, tell, somebody, l...    0.300   \n",
       "4     [baby, night, sleep, sun, time, need, peace, b...    0.102   \n",
       "...                                                 ...      ...   \n",
       "2950                                                 []    0.105   \n",
       "2951  [wanna, leave, sink, ship, try, good, quit, fe...    0.452   \n",
       "2952  [sorry, wake, morning, early, sun, come, drink...    0.696   \n",
       "2953  [dark, cave, dirt, pave, crawling, love, crawl...    0.458   \n",
       "2954  [sun, come, come, come, come, come, sun, whist...    0.551   \n",
       "\n",
       "                  album        year          features  \n",
       "0                    19  2019-11-06                []  \n",
       "1            television  2019-01-01                []  \n",
       "2       qwop / basement  2020-07-24                []  \n",
       "3            television  2019-01-01                []  \n",
       "4            television  2019-01-01                []  \n",
       "...                 ...         ...               ...  \n",
       "2950     no life for me  2015-06-28  [Cloud Nothings]  \n",
       "2951                  v        None                []  \n",
       "2952                  v  2015-07-06                []  \n",
       "2953            wavvves        None                []  \n",
       "2954  king of the beach  2010-07-13                []  \n",
       "\n",
       "[2955 rows x 8 columns]"
      ],
      "text/html": "<div>\n<style scoped>\n    .dataframe tbody tr th:only-of-type {\n        vertical-align: middle;\n    }\n\n    .dataframe tbody tr th {\n        vertical-align: top;\n    }\n\n    .dataframe thead th {\n        text-align: right;\n    }\n</style>\n<table border=\"1\" class=\"dataframe\">\n  <thead>\n    <tr style=\"text-align: right;\">\n      <th></th>\n      <th>artist</th>\n      <th>song</th>\n      <th>lyrics</th>\n      <th>tokenized_lyrics</th>\n      <th>valence</th>\n      <th>album</th>\n      <th>year</th>\n      <th>features</th>\n    </tr>\n  </thead>\n  <tbody>\n    <tr>\n      <th>0</th>\n      <td>99 neighbors</td>\n      <td>19</td>\n      <td>I feel\\nStuck in a box\\nI saw Jesus walk, aye\\...</td>\n      <td>[feel, stuck, box, jesus, walk, aye, got, tap,...</td>\n      <td>0.279</td>\n      <td>19</td>\n      <td>2019-11-06</td>\n      <td>[]</td>\n    </tr>\n    <tr>\n      <th>1</th>\n      <td>99 neighbors</td>\n      <td>bangarang</td>\n      <td>Bounce around and shit\\nBangarang your chick (...</td>\n      <td>[bounce, shit, bangarang, chick, yay, half, th...</td>\n      <td>0.556</td>\n      <td>television</td>\n      <td>2019-01-01</td>\n      <td>[]</td>\n    </tr>\n    <tr>\n      <th>2</th>\n      <td>99 neighbors</td>\n      <td>basement</td>\n      <td>I said I took that motherfucker for a ride fro...</td>\n      <td>[motherfucker, ride, basement, motherfucker, r...</td>\n      <td>0.646</td>\n      <td>qwop / basement</td>\n      <td>2020-07-24</td>\n      <td>[]</td>\n    </tr>\n    <tr>\n      <th>3</th>\n      <td>99 neighbors</td>\n      <td>champion</td>\n      <td>Look me in my eye\\nTell me what you see\\nLook ...</td>\n      <td>[look, eye, tell, look, eye, tell, somebody, l...</td>\n      <td>0.300</td>\n      <td>television</td>\n      <td>2019-01-01</td>\n      <td>[]</td>\n    </tr>\n    <tr>\n      <th>4</th>\n      <td>99 neighbors</td>\n      <td>champion reprise</td>\n      <td>Baby\\nFor all the nights you couldn't sleep\\nA...</td>\n      <td>[baby, night, sleep, sun, time, need, peace, b...</td>\n      <td>0.102</td>\n      <td>television</td>\n      <td>2019-01-01</td>\n      <td>[]</td>\n    </tr>\n    <tr>\n      <th>...</th>\n      <td>...</td>\n      <td>...</td>\n      <td>...</td>\n      <td>...</td>\n      <td>...</td>\n      <td>...</td>\n      <td>...</td>\n      <td>...</td>\n    </tr>\n    <tr>\n      <th>2950</th>\n      <td>wavves</td>\n      <td>untitled ii</td>\n      <td></td>\n      <td>[]</td>\n      <td>0.105</td>\n      <td>no life for me</td>\n      <td>2015-06-28</td>\n      <td>[Cloud Nothings]</td>\n    </tr>\n    <tr>\n      <th>2951</th>\n      <td>wavves</td>\n      <td>wait</td>\n      <td>I wanna leave this sinking ship\\nI've tried my...</td>\n      <td>[wanna, leave, sink, ship, try, good, quit, fe...</td>\n      <td>0.452</td>\n      <td>v</td>\n      <td>None</td>\n      <td>[]</td>\n    </tr>\n    <tr>\n      <th>2952</th>\n      <td>wavves</td>\n      <td>way too much</td>\n      <td>Sorry, if I woke you up this morning\\nIt was e...</td>\n      <td>[sorry, wake, morning, early, sun, come, drink...</td>\n      <td>0.696</td>\n      <td>v</td>\n      <td>2015-07-06</td>\n      <td>[]</td>\n    </tr>\n    <tr>\n      <th>2953</th>\n      <td>wavves</td>\n      <td>weed demon</td>\n      <td>Dark cave\\nDirt paved\\nCrawling\\nI love crawli...</td>\n      <td>[dark, cave, dirt, pave, crawling, love, crawl...</td>\n      <td>0.458</td>\n      <td>wavvves</td>\n      <td>None</td>\n      <td>[]</td>\n    </tr>\n    <tr>\n      <th>2954</th>\n      <td>wavves</td>\n      <td>when will you come</td>\n      <td>Sun, when will you come?\\nWhen will you come?\\...</td>\n      <td>[sun, come, come, come, come, come, sun, whist...</td>\n      <td>0.551</td>\n      <td>king of the beach</td>\n      <td>2010-07-13</td>\n      <td>[]</td>\n    </tr>\n  </tbody>\n</table>\n<p>2955 rows × 8 columns</p>\n</div>"
     },
     "metadata": {},
     "execution_count": 34
    }
   ],
   "source": [
    "df = pd.DataFrame(list(zip(artist_names, song_names, lyrics, tokenized_lyrics, valence, albums, year, features)), columns=['artist', 'song', 'lyrics', 'tokenized_lyrics', 'valence', 'album', 'year', 'features'])\n",
    "df"
   ]
  },
  {
   "cell_type": "code",
   "execution_count": 35,
   "metadata": {},
   "outputs": [],
   "source": [
    "df.to_csv('data_and_models/song_df.csv')"
   ]
  },
  {
   "cell_type": "code",
   "execution_count": null,
   "metadata": {},
   "outputs": [],
   "source": []
  }
 ]
}