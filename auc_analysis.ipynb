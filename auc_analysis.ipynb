{
 "cells": [
  {
   "cell_type": "code",
   "execution_count": 4,
   "metadata": {},
   "outputs": [],
   "source": [
    "from sklearn.feature_extraction.text import TfidfVectorizer\n",
    "from sklearn.linear_model import LogisticRegression\n",
    "from sklearn.model_selection import train_test_split\n",
    "import pandas as pd\n",
    "import numpy as np\n",
    "from sklearn.metrics import roc_auc_score\n",
    "import seaborn as sns\n",
    "import matplotlib.pyplot as plt\n",
    "import pickle"
   ]
  },
  {
   "cell_type": "code",
   "execution_count": 5,
   "metadata": {},
   "outputs": [],
   "source": [
    "train = pd.read_csv('tokenized_train_data.csv')\n",
    "test = pd.read_csv('tokenized_test_data.csv')\n",
    "master = pd.concat([train, test])"
   ]
  },
  {
   "cell_type": "code",
   "execution_count": 6,
   "metadata": {},
   "outputs": [],
   "source": [
    "train_token_lyrs = train['tokenized_lyrics'].values\n",
    "test_token_lyrs = test['tokenized_lyrics'].values\n",
    "train_lr_val = train['lr_valence'].values\n",
    "test_lr_val = test['lr_valence'].values\n"
   ]
  },
  {
   "cell_type": "code",
   "execution_count": 14,
   "metadata": {},
   "outputs": [
    {
     "name": "stdout",
     "output_type": "stream",
     "text": [
      "running with 100 features\n",
      "running with 200 features\n",
      "running with 300 features\n",
      "running with 400 features\n",
      "running with 500 features\n",
      "running with 600 features\n",
      "running with 700 features\n",
      "running with 800 features\n",
      "running with 900 features\n",
      "running with 1000 features\n",
      "running with 1100 features\n",
      "running with 1200 features\n",
      "running with 1300 features\n",
      "running with 1400 features\n",
      "running with 1500 features\n",
      "running with 1600 features\n",
      "running with 1700 features\n",
      "running with 1800 features\n",
      "running with 1900 features\n",
      "running with 2000 features\n",
      "running with 2100 features\n",
      "running with 2200 features\n",
      "running with 2300 features\n",
      "running with 2400 features\n",
      "running with 2500 features\n",
      "running with 2600 features\n",
      "running with 2700 features\n",
      "running with 2800 features\n",
      "running with 2900 features\n",
      "running with 3000 features\n",
      "running with 3100 features\n",
      "running with 3200 features\n",
      "running with 3300 features\n",
      "running with 3400 features\n",
      "running with 3500 features\n",
      "running with 3600 features\n",
      "running with 3700 features\n",
      "running with 3800 features\n",
      "running with 3900 features\n",
      "running with 4000 features\n",
      "running with 4100 features\n",
      "running with 4200 features\n",
      "running with 4300 features\n",
      "running with 4400 features\n",
      "running with 4500 features\n",
      "running with 4600 features\n",
      "running with 4700 features\n",
      "running with 4800 features\n",
      "running with 4900 features\n",
      "running with 5000 features\n",
      "running with 5100 features\n",
      "running with 5200 features\n",
      "running with 5300 features\n",
      "running with 5400 features\n",
      "running with 5500 features\n",
      "running with 5600 features\n",
      "running with 5700 features\n",
      "running with 5800 features\n",
      "running with 5900 features\n",
      "running with 6000 features\n",
      "running with 6100 features\n",
      "running with 6200 features\n",
      "running with 6300 features\n",
      "running with 6400 features\n",
      "running with 6500 features\n",
      "running with 6600 features\n",
      "running with 6700 features\n",
      "running with 6800 features\n",
      "running with 6900 features\n",
      "running with 7000 features\n",
      "running with 7100 features\n",
      "running with 7200 features\n",
      "running with 7300 features\n",
      "running with 7400 features\n",
      "running with 7500 features\n",
      "running with 7600 features\n",
      "running with 7700 features\n",
      "running with 7800 features\n",
      "running with 7900 features\n",
      "running with 8000 features\n",
      "running with 8100 features\n",
      "running with 8200 features\n",
      "running with 8300 features\n",
      "running with 8400 features\n",
      "running with 8500 features\n",
      "running with 8600 features\n",
      "running with 8700 features\n",
      "running with 8800 features\n",
      "running with 8900 features\n",
      "running with 9000 features\n",
      "running with 9100 features\n",
      "running with 9200 features\n",
      "running with 9300 features\n",
      "running with 9400 features\n",
      "running with 9500 features\n",
      "running with 9600 features\n",
      "running with 9700 features\n",
      "running with 9800 features\n",
      "running with 9900 features\n",
      "running with 10000 features\n",
      "running with 10100 features\n",
      "running with 10200 features\n",
      "running with 10300 features\n",
      "running with 10400 features\n",
      "running with 10500 features\n",
      "running with 10600 features\n",
      "running with 10700 features\n",
      "running with 10800 features\n",
      "running with 10900 features\n",
      "running with 11000 features\n",
      "running with 11100 features\n",
      "running with 11200 features\n",
      "running with 11300 features\n",
      "running with 11400 features\n",
      "running with 11500 features\n",
      "running with 11600 features\n",
      "running with 11700 features\n",
      "running with 11800 features\n",
      "running with 11900 features\n",
      "running with 12000 features\n",
      "running with 12100 features\n",
      "running with 12200 features\n",
      "running with 12300 features\n",
      "running with 12400 features\n",
      "running with 12500 features\n",
      "running with 12600 features\n",
      "running with 12700 features\n",
      "running with 12800 features\n",
      "running with 12900 features\n",
      "running with 13000 features\n",
      "running with 13100 features\n",
      "running with 13200 features\n",
      "running with 13300 features\n",
      "running with 13400 features\n",
      "running with 13500 features\n",
      "running with 13600 features\n",
      "running with 13700 features\n",
      "running with 13800 features\n",
      "running with 13900 features\n",
      "running with 14000 features\n",
      "running with 14100 features\n",
      "running with 14200 features\n",
      "running with 14300 features\n",
      "running with 14400 features\n",
      "running with 14500 features\n",
      "running with 14600 features\n",
      "running with 14700 features\n",
      "running with 14800 features\n",
      "running with 14900 features\n",
      "running with 15000 features\n",
      "running with 15100 features\n",
      "running with 15200 features\n",
      "running with 15300 features\n",
      "running with 15400 features\n",
      "running with 15500 features\n",
      "running with 15600 features\n",
      "running with 15700 features\n",
      "running with 15800 features\n",
      "running with 15900 features\n",
      "running with 16000 features\n",
      "running with 16100 features\n",
      "running with 16200 features\n",
      "running with 16300 features\n",
      "running with 16400 features\n",
      "running with 16500 features\n",
      "running with 16600 features\n",
      "running with 16700 features\n",
      "running with 16800 features\n",
      "running with 16900 features\n",
      "running with 17000 features\n",
      "running with 17100 features\n",
      "running with 17200 features\n",
      "running with 17300 features\n",
      "running with 17400 features\n",
      "running with 17500 features\n",
      "running with 17600 features\n",
      "running with 17700 features\n",
      "running with 17800 features\n",
      "running with 17900 features\n",
      "running with 18000 features\n",
      "running with 18100 features\n",
      "running with 18200 features\n",
      "running with 18300 features\n",
      "running with 18400 features\n",
      "running with 18500 features\n",
      "running with 18600 features\n",
      "running with 18700 features\n",
      "running with 18800 features\n",
      "running with 18900 features\n",
      "running with 19000 features\n",
      "running with 19100 features\n",
      "running with 19200 features\n",
      "running with 19300 features\n",
      "running with 19400 features\n",
      "running with 19500 features\n",
      "running with 19600 features\n",
      "running with 19700 features\n",
      "running with 19800 features\n",
      "running with 19900 features\n",
      "running with 20000 features\n",
      "running with 20100 features\n",
      "running with 20200 features\n",
      "running with 20300 features\n",
      "running with 20400 features\n",
      "running with 20500 features\n",
      "running with 20600 features\n",
      "running with 20700 features\n",
      "running with 20800 features\n",
      "running with 20900 features\n",
      "running with 21000 features\n"
     ]
    }
   ],
   "source": [
    "feature_num_list = []\n",
    "train_auc_scores = []\n",
    "test_auc_scores = []\n",
    "for i in range(100, 21001, 100):\n",
    "    train, test = train_test_split(master, test_size=0.25, random_state=42)\n",
    "    train_token_lyrs = train['tokenized_lyrics'].values\n",
    "    test_token_lyrs = test['tokenized_lyrics'].values\n",
    "    train_lr_val = train['lr_valence'].values\n",
    "    test_lr_val = test['lr_valence'].values\n",
    "    print('running with', i, 'features')\n",
    "    # create vectorizer limited to i documents ranked by highest df frequency\n",
    "    vectorizer = TfidfVectorizer(analyzer='word', lowercase=True, max_features = i)\n",
    "    # get X train 2d array of train features\n",
    "    X_train = vectorizer.fit_transform(train_token_lyrs).toarray()\n",
    "    vocab = vectorizer.get_feature_names()\n",
    "    # Train model\n",
    "    model = LogisticRegression(max_iter = 10000).fit(X_train, train_lr_val)\n",
    "\n",
    "    # get train y predictions\n",
    "    train_pred = model.predict(X_train)\n",
    "    # get train auc scores\n",
    "    train_auc = roc_auc_score(train_lr_val, train_pred)\n",
    "    train_auc_scores.append(train_auc)\n",
    "    \n",
    "    \n",
    "    # create vectorizer for test data\n",
    "    test_vectorizer = TfidfVectorizer(analyzer='word', lowercase=True, max_features = i, vocabulary= vocab)\n",
    "    # get X test 2d array of train features\n",
    "    X_test = test_vectorizer.fit_transform(test_token_lyrs).toarray()\n",
    "    # get test y predictions\n",
    "    test_pred = model.predict(X_test)\n",
    "    # get train auc scores\n",
    "    test_auc = roc_auc_score(test_lr_val, test_pred)\n",
    "    test_auc_scores.append(test_auc)\n",
    "    \n",
    "    feature_num_list.append(i)"
   ]
  },
  {
   "cell_type": "code",
   "execution_count": 16,
   "metadata": {
    "scrolled": true
   },
   "outputs": [
    {
     "data": {
      "image/png": "[encoded data removed]",
      "text/plain": [
       "<Figure size 432x288 with 1 Axes>"
      ]
     },
     "metadata": {
      "needs_background": "light"
     },
     "output_type": "display_data"
    }
   ],
   "source": [
    "test_plot = sns.scatterplot(x=feature_num_list, y=test_auc_scores)\n",
    "\n",
    "plt.ylabel('AUC score')\n",
    "plt.xlabel('Number of Features')\n",
    "test_plot = test_plot.get_figure()\n",
    "test_plot.savefig(\"21000_feature_auc_test_scatter.png\")"
   ]
  },
  {
   "cell_type": "code",
   "execution_count": 13,
   "metadata": {},
   "outputs": [
    {
     "data": {
      "image/png": "[encoded data removed]",
      "text/plain": [
       "<Figure size 432x288 with 1 Axes>"
      ]
     },
     "metadata": {
      "needs_background": "light"
     },
     "output_type": "display_data"
    }
   ],
   "source": [
    "train_plot = sns.scatterplot(x=feature_num_list, y=train_auc_scores, label = 'train')\n",
    "test_plot = sns.scatterplot(x=feature_num_list, y=test_auc_scores, label ='test')\n",
    "plt.ylabel('AUC score')\n",
    "plt.xlabel('Number of Features')\n",
    "plt.legend()\n",
    "plt.savefig(\"21000_feature_auc_scatter.png\")"
   ]
  },
  {
   "cell_type": "code",
   "execution_count": 17,
   "metadata": {
    "scrolled": true
   },
   "outputs": [
    {
     "data": {
      "image/png": "[encoded data removed]",
      "text/plain": [
       "<Figure size 432x288 with 1 Axes>"
      ]
     },
     "metadata": {
      "needs_background": "light"
     },
     "output_type": "display_data"
    }
   ],
   "source": [
    "train_plot = sns.scatterplot(x=feature_num_list, y=train_auc_scores)\n",
    "plt.ylabel('AUC score')\n",
    "plt.xlabel('Number of Features')\n",
    "train_plot = train_plot.get_figure()\n",
    "train_plot.savefig(\"21000_feature_auc_train_scatter.png\")"
   ]
  },
  {
   "cell_type": "code",
   "execution_count": 37,
   "metadata": {},
   "outputs": [
    {
     "name": "stdout",
     "output_type": "stream",
     "text": [
      "[0.542416765664504, 0.5938842182216943, 0.5729271375917634, 0.564862621462731, 0.5647179323159401, 0.561957415699534, 0.556219348746535, 0.5601792622376558, 0.5587628316427549]\n"
     ]
    }
   ],
   "source": [
    "print(test_auc_scores)\n",
    "# Highest AUC is with 200 features: 0.5938842182216943"
   ]
  }
 ],
 "metadata": {
  "kernelspec": {
   "display_name": "Python 3",
   "language": "python",
   "name": "python3"
  },
  "language_info": {
   "codemirror_mode": {
    "name": "ipython",
    "version": 3
   },
   "file_extension": ".py",
   "mimetype": "text/x-python",
   "name": "python",
   "nbconvert_exporter": "python",
   "pygments_lexer": "ipython3",
   "version": "3.8.3"
  }
 },
 "nbformat": 4,
 "nbformat_minor": 4
}
