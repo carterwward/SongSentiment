{
 "cells": [
  {
   "cell_type": "code",
   "execution_count": 46,
   "metadata": {},
   "outputs": [],
   "source": [
    "from sklearn.feature_extraction.text import TfidfVectorizer\n",
    "from sklearn.linear_model import LogisticRegression\n",
    "from sklearn.model_selection import train_test_split\n",
    "import pandas as pd\n",
    "import numpy as np\n",
    "from sklearn.metrics import roc_auc_score\n",
    "import seaborn as sns\n",
    "import matplotlib.pyplot as plt\n",
    "import pickle"
   ]
  },
  {
   "cell_type": "code",
   "execution_count": 48,
   "metadata": {},
   "outputs": [],
   "source": [
    "train = pd.read_csv('tokenized_train_data.csv')\n",
    "test = pd.read_csv('tokenized_test_data.csv')\n",
    "master = pd.concat([train, test])"
   ]
  },
  {
   "cell_type": "code",
   "execution_count": 8,
   "metadata": {},
   "outputs": [],
   "source": [
    "train_token_lyrs = train['tokenized_lyrics'].values\n",
    "test_token_lyrs = test['tokenized_lyrics'].values\n",
    "train_lr_val = train['lr_valence'].values\n",
    "test_lr_val = test['lr_valence'].values\n"
   ]
  },
  {
   "cell_type": "code",
   "execution_count": 63,
   "metadata": {},
   "outputs": [
    {
     "name": "stdout",
     "output_type": "stream",
     "text": [
      "running with 100 features\n",
      "running with 200 features\n",
      "running with 300 features\n",
      "running with 400 features\n",
      "running with 500 features\n",
      "running with 600 features\n",
      "running with 700 features\n",
      "running with 800 features\n",
      "running with 900 features\n",
      "running with 1000 features\n"
     ]
    }
   ],
   "source": [
    "feature_num_list = []\n",
    "train_auc_scores = []\n",
    "test_auc_scores = []\n",
    "for i in range(100, 1001, 100):\n",
    "    train, test = train_test_split(master, test_size=0.25, random_state=42)\n",
    "    train_token_lyrs = train['tokenized_lyrics'].values\n",
    "    test_token_lyrs = test['tokenized_lyrics'].values\n",
    "    train_lr_val = train['lr_valence'].values\n",
    "    test_lr_val = test['lr_valence'].values\n",
    "    print('running with', i, 'features')\n",
    "    # create vectorizer limited to i documents ranked by highest df frequency\n",
    "    vectorizer = TfidfVectorizer(analyzer='word', lowercase=True, max_features = i)\n",
    "    # get X train 2d array of train features\n",
    "    X_train = vectorizer.fit_transform(train_token_lyrs).toarray()\n",
    "    vocab = vectorizer.get_feature_names()\n",
    "    # Train model\n",
    "    model = LogisticRegression(max_iter = 10000).fit(X_train, train_lr_val)\n",
    "\n",
    "    # get train y predictions\n",
    "    train_pred = model.predict(X_train)\n",
    "    # get train auc scores\n",
    "    train_auc = roc_auc_score(train_lr_val, train_pred)\n",
    "    train_auc_scores.append(train_auc)\n",
    "    \n",
    "    \n",
    "    # create vectorizer for test data\n",
    "    test_vectorizer = TfidfVectorizer(analyzer='word', lowercase=True, max_features = i, vocabulary= vocab)\n",
    "    # get X test 2d array of train features\n",
    "    X_test = test_vectorizer.fit_transform(test_token_lyrs).toarray()\n",
    "    # get test y predictions\n",
    "    test_pred = model.predict(X_test)\n",
    "    # get train auc scores\n",
    "    test_auc = roc_auc_score(test_lr_val, test_pred)\n",
    "    test_auc_scores.append(test_auc)\n",
    "    \n",
    "    feature_num_list.append(i)"
   ]
  },
  {
   "cell_type": "code",
   "execution_count": 64,
   "metadata": {},
   "outputs": [
    {
     "data": {
      "image/png": "[encoded data removed]",
      "text/plain": [
       "<Figure size 432x288 with 1 Axes>"
      ]
     },
     "metadata": {
      "needs_background": "light"
     },
     "output_type": "display_data"
    }
   ],
   "source": [
    "test_plot = sns.scatterplot(x=feature_num_list, y=test_auc_scores)\n",
    "plt.ylabel('AUC score')\n",
    "plt.xlabel('Number of Features')\n",
    "test_plot = test_plot.get_figure()\n",
    "test_plot.savefig(\"1000_feature_auc_test_scatter.png\")"
   ]
  },
  {
   "cell_type": "code",
   "execution_count": 65,
   "metadata": {},
   "outputs": [
    {
     "data": {
      "image/png": "[encoded data removed]",
      "text/plain": [
       "<Figure size 432x288 with 1 Axes>"
      ]
     },
     "metadata": {
      "needs_background": "light"
     },
     "output_type": "display_data"
    }
   ],
   "source": [
    "train_plot = sns.scatterplot(x=feature_num_list, y=train_auc_scores)\n",
    "plt.ylabel('AUC score')\n",
    "plt.xlabel('Number of Features')\n",
    "train_plot = train_plot.get_figure()\n",
    "train_plot.savefig(\"1000_feature_auc_train_scatter.png\")"
   ]
  },
  {
   "cell_type": "code",
   "execution_count": 37,
   "metadata": {},
   "outputs": [
    {
     "name": "stdout",
     "output_type": "stream",
     "text": [
      "[0.542416765664504, 0.5938842182216943, 0.5729271375917634, 0.564862621462731, 0.5647179323159401, 0.561957415699534, 0.556219348746535, 0.5601792622376558, 0.5587628316427549]\n"
     ]
    }
   ],
   "source": [
    "print(test_auc_scores)\n",
    "# Highest AUC is with 200 features: 0.5938842182216943"
   ]
  },
  {
   "cell_type": "code",
   "execution_count": 39,
   "metadata": {},
   "outputs": [],
   "source": [
    "# create vectorizer limited to i documents ranked by highest df frequency\n",
    "vectorizer = TfidfVectorizer(analyzer='word', lowercase=True, max_features = 200)\n",
    "# get X train 2d array of train features\n",
    "X_train = vectorizer.fit_transform(train_token_lyrs).toarray()\n",
    "vocab = vectorizer.get_feature_names()\n",
    "# Train model\n",
    "model = LogisticRegression(max_iter = 10000).fit(X_train, train_lr_val)"
   ]
  },
  {
   "cell_type": "code",
   "execution_count": 43,
   "metadata": {},
   "outputs": [],
   "source": [
    "# Save the model that did the best in terms of testing\n",
    "pickle.dump(model, open('200_feature_model.sav', 'wb'))"
   ]
  },
  {
   "cell_type": "code",
   "execution_count": null,
   "metadata": {},
   "outputs": [],
   "source": []
  }
 ],
 "metadata": {
  "kernelspec": {
   "display_name": "Python 3",
   "language": "python",
   "name": "python3"
  },
  "language_info": {
   "codemirror_mode": {
    "name": "ipython",
    "version": 3
   },
   "file_extension": ".py",
   "mimetype": "text/x-python",
   "name": "python",
   "nbconvert_exporter": "python",
   "pygments_lexer": "ipython3",
   "version": "3.8.3"
  }
 },
 "nbformat": 4,
 "nbformat_minor": 4
}
