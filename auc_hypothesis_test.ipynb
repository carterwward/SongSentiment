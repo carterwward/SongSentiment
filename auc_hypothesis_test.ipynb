{
 "cells": [
  {
   "cell_type": "code",
   "execution_count": 16,
   "metadata": {},
   "outputs": [],
   "source": [
    "from sklearn.feature_extraction.text import TfidfVectorizer\n",
    "from sklearn.linear_model import LogisticRegression\n",
    "from sklearn.model_selection import train_test_split\n",
    "from sklearn.model_selection import cross_val_score\n",
    "import pandas as pd\n",
    "import numpy as np\n",
    "import seaborn as sns\n",
    "import matplotlib.pyplot as plt\n",
    "import pickle\n",
    "from scipy import stats"
   ]
  },
  {
   "cell_type": "code",
   "execution_count": 17,
   "metadata": {},
   "outputs": [],
   "source": [
    "train = pd.read_csv('tokenized_train_data.csv')\n",
    "test = pd.read_csv('tokenized_test_data.csv')\n",
    "master = pd.concat([train, test])"
   ]
  },
  {
   "cell_type": "code",
   "execution_count": 27,
   "metadata": {
    "scrolled": true
   },
   "outputs": [
    {
     "name": "stdout",
     "output_type": "stream",
     "text": [
      "Cross-Validation Accuracy Scores [0.5        0.375      0.875      0.75       0.875      0.625\n",
      " 0.625      0.5        0.75       0.875      0.875      0.375\n",
      " 0.75       0.625      0.625      0.5        0.375      0.625\n",
      " 0.75       0.5        0.5        0.5        0.875      0.5\n",
      " 0.28571429 0.28571429 0.28571429 0.57142857 0.71428571 0.42857143\n",
      " 0.57142857 0.57142857 0.71428571 0.42857143 0.71428571 0.42857143\n",
      " 0.28571429 0.42857143 0.42857143 0.42857143 0.57142857 0.85714286\n",
      " 0.57142857 0.71428571 0.42857143 0.71428571 0.57142857 0.57142857\n",
      " 0.57142857 0.57142857 0.71428571 0.57142857 0.71428571 0.57142857\n",
      " 0.71428571 0.28571429 0.57142857 0.28571429 0.42857143 0.28571429\n",
      " 0.42857143 0.42857143 0.57142857 0.57142857 0.57142857 0.57142857\n",
      " 0.57142857 0.85714286 0.28571429 0.57142857 0.85714286 0.42857143\n",
      " 0.28571429 0.57142857 0.57142857 0.85714286 0.85714286 0.57142857\n",
      " 0.57142857 0.42857143 0.28571429 0.42857143 0.14285714 0.71428571\n",
      " 0.28571429 0.42857143 0.28571429 0.85714286 0.71428571 0.71428571\n",
      " 0.71428571 0.71428571 0.57142857 0.28571429 0.85714286 0.28571429\n",
      " 0.57142857 0.42857143 0.42857143 0.42857143]\n"
     ]
    }
   ],
   "source": [
    "train, test = train_test_split(master, test_size=0.25, random_state=42)\n",
    "vectorizer = TfidfVectorizer(analyzer='word', lowercase=True, max_features = 700)\n",
    "# get X train 2d array of train features\n",
    "X_train = vectorizer.fit_transform(train['tokenized_lyrics'].values).toarray()\n",
    "vocab = vectorizer.get_feature_names()\n",
    "# Train model\n",
    "model = LogisticRegression(max_iter = 10000).fit(X_train, train['lr_valence'].values)\n",
    "\n",
    "# create vectorizer for test data\n",
    "test_vectorizer = TfidfVectorizer(analyzer='word', lowercase=True, max_features = 700, vocabulary= vocab)\n",
    "# get X test 2d array of train features\n",
    "X_test = test_vectorizer.fit_transform(test['tokenized_lyrics'].values).toarray()\n",
    "# get test y predictions\n",
    "# test_pred = model.predict(X_test)\n",
    "# get train auc scores\n",
    "# test_auc = roc_auc_score(test['lr_valence'].values, test_pred)\n",
    "# test_auc_scores.append(test_auc)\n",
    "\n",
    "scores = cross_val_score(model, X_test, test['lr_valence'].values, cv=100)\n",
    "print('Cross-Validation Accuracy Scores', scores)"
   ]
  },
  {
   "cell_type": "code",
   "execution_count": 28,
   "metadata": {},
   "outputs": [
    {
     "name": "stderr",
     "output_type": "stream",
     "text": [
      "/Library/Frameworks/Python.framework/Versions/3.8/lib/python3.8/site-packages/seaborn/distributions.py:2551: FutureWarning: `distplot` is a deprecated function and will be removed in a future version. Please adapt your code to use either `displot` (a figure-level function with similar flexibility) or `histplot` (an axes-level function for histograms).\n",
      "  warnings.warn(msg, FutureWarning)\n"
     ]
    },
    {
     "data": {
      "text/plain": [
       "Text(0.5, 0, 'Cross Validation Accuracy Scores')"
      ]
     },
     "execution_count": 28,
     "metadata": {},
     "output_type": "execute_result"
    },
    {
     "data": {
      "image/png": "[encoded data removed]",
      "text/plain": [
       "<Figure size 432x288 with 1 Axes>"
      ]
     },
     "metadata": {
      "needs_background": "light"
     },
     "output_type": "display_data"
    }
   ],
   "source": [
    "sns.distplot(scores, kde=True)\n",
    "plt.xlabel('Cross Validation Accuracy Scores')\n",
    "# plt.savefig(\"cross_val_hist.png\")"
   ]
  },
  {
   "cell_type": "code",
   "execution_count": 29,
   "metadata": {},
   "outputs": [],
   "source": [
    "tt, tpval = stats.ttest_1samp(scores,0.5)"
   ]
  },
  {
   "cell_type": "code",
   "execution_count": 30,
   "metadata": {},
   "outputs": [
    {
     "data": {
      "text/plain": [
       "0.0027604220119266023"
      ]
     },
     "execution_count": 30,
     "metadata": {},
     "output_type": "execute_result"
    }
   ],
   "source": [
    "tpval"
   ]
  },
  {
   "cell_type": "code",
   "execution_count": null,
   "metadata": {},
   "outputs": [],
   "source": []
  }
 ],
 "metadata": {
  "kernelspec": {
   "display_name": "Python 3",
   "language": "python",
   "name": "python3"
  },
  "language_info": {
   "codemirror_mode": {
    "name": "ipython",
    "version": 3
   },
   "file_extension": ".py",
   "mimetype": "text/x-python",
   "name": "python",
   "nbconvert_exporter": "python",
   "pygments_lexer": "ipython3",
   "version": "3.8.3"
  }
 },
 "nbformat": 4,
 "nbformat_minor": 4
}
